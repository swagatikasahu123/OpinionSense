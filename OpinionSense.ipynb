{
 "cells": [
  {
   "cell_type": "code",
   "execution_count": 1,
   "id": "a61c04c7",
   "metadata": {},
   "outputs": [],
   "source": [
    "#Importing necessary libraries and dependencies\n",
    "import numpy as np\n",
    "from numpy.random import seed\n",
    "seed(1)\n",
    "import matplotlib.pyplot as plt\n",
    "import pandas as pd\n",
    "import string\n",
    "import os\n",
    "import shutil\n",
    "import re\n",
    "\n",
    "#tensorflow = library specializing in neural networks\n",
    "import tensorflow as tf\n",
    "\n",
    "#keras = python interface for neural networks\n",
    "#runs on top of tensorflow (tensorflow is backend)\n",
    "#more use friendly\n",
    "\n",
    "from keras.models import Sequential\n",
    "from keras.layers import SimpleRNN, Dense, Embedding\n",
    "from tensorflow.keras.layers import TextVectorization\n",
    "from keras.optimizers import Adam\n",
    "\n",
    "from sklearn.linear_model import LinearRegression"
   ]
  },
  {
   "cell_type": "code",
   "execution_count": 2,
   "id": "c443008b",
   "metadata": {},
   "outputs": [],
   "source": [
    "#Generate training data\n",
    "\n",
    "#generate sequence\n",
    "sequence = np.array(list(range(10))).astype(float)"
   ]
  },
  {
   "cell_type": "code",
   "execution_count": 3,
   "id": "cc122fad",
   "metadata": {},
   "outputs": [
    {
     "data": {
      "text/plain": [
       "array([0., 1., 2., 3., 4., 5., 6., 7., 8., 9.])"
      ]
     },
     "execution_count": 3,
     "metadata": {},
     "output_type": "execute_result"
    }
   ],
   "source": [
    "sequence"
   ]
  },
  {
   "cell_type": "code",
   "execution_count": 4,
   "id": "a8e39a1a",
   "metadata": {},
   "outputs": [],
   "source": [
    "#number of training words\n",
    "window_size = 3"
   ]
  },
  {
   "cell_type": "code",
   "execution_count": 5,
   "id": "d8eb4397",
   "metadata": {},
   "outputs": [],
   "source": [
    "#generate training data\n",
    "train_data = [np.array(sequence[i:i+window_size]).reshape(1,-1) for i in range(sequence.shape[0]-window_size)]\n",
    "train_data = np.concatenate(train_data*10, axis=0)\n",
    "train_data = train_data.reshape(train_data.shape[0], train_data.shape[1], 1)"
   ]
  },
  {
   "cell_type": "code",
   "execution_count": 6,
   "id": "7db10a30",
   "metadata": {},
   "outputs": [
    {
     "data": {
      "text/plain": [
       "(70, 3, 1)"
      ]
     },
     "execution_count": 6,
     "metadata": {},
     "output_type": "execute_result"
    }
   ],
   "source": [
    "train_data.shape"
   ]
  },
  {
   "cell_type": "code",
   "execution_count": 7,
   "id": "967606dc",
   "metadata": {},
   "outputs": [
    {
     "data": {
      "text/plain": [
       "array([[[0.],\n",
       "        [1.],\n",
       "        [2.]],\n",
       "\n",
       "       [[1.],\n",
       "        [2.],\n",
       "        [3.]],\n",
       "\n",
       "       [[2.],\n",
       "        [3.],\n",
       "        [4.]]])"
      ]
     },
     "execution_count": 7,
     "metadata": {},
     "output_type": "execute_result"
    }
   ],
   "source": [
    "train_data[:3]"
   ]
  },
  {
   "cell_type": "code",
   "execution_count": 8,
   "id": "83488534",
   "metadata": {},
   "outputs": [],
   "source": [
    "#get training labels\n",
    "train_label = [sequence[i+window_size] for i in range(sequence.shape[0]-window_size)]\n",
    "train_label = np.concatenate([train_label]*10).reshape(-1,1)"
   ]
  },
  {
   "cell_type": "code",
   "execution_count": 9,
   "id": "de301dc9",
   "metadata": {},
   "outputs": [
    {
     "name": "stdout",
     "output_type": "stream",
     "text": [
      "Epoch 1/100\n",
      "3/3 [==============================] - 1s 21ms/step - loss: 127.9909 - mse: 127.9909\n",
      "Epoch 2/100\n",
      "3/3 [==============================] - 0s 12ms/step - loss: 60.3853 - mse: 60.3853\n",
      "Epoch 3/100\n",
      "3/3 [==============================] - 0s 12ms/step - loss: 3.8178 - mse: 3.8178\n",
      "Epoch 4/100\n",
      "3/3 [==============================] - 0s 11ms/step - loss: 3.5153 - mse: 3.5153\n",
      "Epoch 5/100\n",
      "3/3 [==============================] - 0s 11ms/step - loss: 2.9501 - mse: 2.9501\n",
      "Epoch 6/100\n",
      "3/3 [==============================] - 0s 11ms/step - loss: 2.1550 - mse: 2.1550\n",
      "Epoch 7/100\n",
      "3/3 [==============================] - 0s 13ms/step - loss: 2.4277 - mse: 2.4277\n",
      "Epoch 8/100\n",
      "3/3 [==============================] - 0s 12ms/step - loss: 4.7685 - mse: 4.7685\n",
      "Epoch 9/100\n",
      "3/3 [==============================] - 0s 12ms/step - loss: 4.6934 - mse: 4.6934\n",
      "Epoch 10/100\n",
      "3/3 [==============================] - 0s 10ms/step - loss: 4.3633 - mse: 4.3633\n",
      "Epoch 11/100\n",
      "3/3 [==============================] - 0s 13ms/step - loss: 2.5400 - mse: 2.5400\n",
      "Epoch 12/100\n",
      "3/3 [==============================] - 0s 11ms/step - loss: 2.1621 - mse: 2.1621\n",
      "Epoch 13/100\n",
      "3/3 [==============================] - 0s 12ms/step - loss: 1.5933 - mse: 1.5933\n",
      "Epoch 14/100\n",
      "3/3 [==============================] - 0s 11ms/step - loss: 1.2752 - mse: 1.2752\n",
      "Epoch 15/100\n",
      "3/3 [==============================] - 0s 12ms/step - loss: 0.9051 - mse: 0.9051\n",
      "Epoch 16/100\n",
      "3/3 [==============================] - 0s 12ms/step - loss: 0.5842 - mse: 0.5842\n",
      "Epoch 17/100\n",
      "3/3 [==============================] - 0s 12ms/step - loss: 0.1806 - mse: 0.1806\n",
      "Epoch 18/100\n",
      "3/3 [==============================] - 0s 13ms/step - loss: 0.0837 - mse: 0.0837\n",
      "Epoch 19/100\n",
      "3/3 [==============================] - 0s 11ms/step - loss: 0.0906 - mse: 0.0906\n",
      "Epoch 20/100\n",
      "3/3 [==============================] - 0s 5ms/step - loss: 0.1578 - mse: 0.1578\n",
      "Epoch 21/100\n",
      "3/3 [==============================] - 0s 9ms/step - loss: 0.0771 - mse: 0.0771\n",
      "Epoch 22/100\n",
      "3/3 [==============================] - 0s 14ms/step - loss: 0.0341 - mse: 0.0341\n",
      "Epoch 23/100\n",
      "3/3 [==============================] - 0s 12ms/step - loss: 0.0124 - mse: 0.0124\n",
      "Epoch 24/100\n",
      "3/3 [==============================] - 0s 12ms/step - loss: 0.0283 - mse: 0.0283\n",
      "Epoch 25/100\n",
      "3/3 [==============================] - 0s 11ms/step - loss: 0.0371 - mse: 0.0371\n",
      "Epoch 26/100\n",
      "3/3 [==============================] - 0s 11ms/step - loss: 0.0172 - mse: 0.0172\n",
      "Epoch 27/100\n",
      "3/3 [==============================] - 0s 13ms/step - loss: 0.0080 - mse: 0.0080\n",
      "Epoch 28/100\n",
      "3/3 [==============================] - 0s 11ms/step - loss: 0.0140 - mse: 0.0140\n",
      "Epoch 29/100\n",
      "3/3 [==============================] - 0s 11ms/step - loss: 0.0073 - mse: 0.0073\n",
      "Epoch 30/100\n",
      "3/3 [==============================] - 0s 11ms/step - loss: 0.0053 - mse: 0.0053\n",
      "Epoch 31/100\n",
      "3/3 [==============================] - 0s 9ms/step - loss: 0.0014 - mse: 0.0014\n",
      "Epoch 32/100\n",
      "3/3 [==============================] - 0s 11ms/step - loss: 0.0028 - mse: 0.0028\n",
      "Epoch 33/100\n",
      "3/3 [==============================] - 0s 12ms/step - loss: 0.0022 - mse: 0.0022\n",
      "Epoch 34/100\n",
      "3/3 [==============================] - 0s 12ms/step - loss: 0.0015 - mse: 0.0015\n",
      "Epoch 35/100\n",
      "3/3 [==============================] - 0s 13ms/step - loss: 7.7736e-04 - mse: 7.7736e-04\n",
      "Epoch 36/100\n",
      "3/3 [==============================] - 0s 11ms/step - loss: 4.3639e-04 - mse: 4.3639e-04\n",
      "Epoch 37/100\n",
      "3/3 [==============================] - 0s 12ms/step - loss: 3.5049e-04 - mse: 3.5049e-04\n",
      "Epoch 38/100\n",
      "3/3 [==============================] - 0s 11ms/step - loss: 4.4768e-04 - mse: 4.4768e-04\n",
      "Epoch 39/100\n",
      "3/3 [==============================] - 0s 11ms/step - loss: 4.9673e-04 - mse: 4.9673e-04\n",
      "Epoch 40/100\n",
      "3/3 [==============================] - 0s 16ms/step - loss: 4.0734e-04 - mse: 4.0734e-04\n",
      "Epoch 41/100\n",
      "3/3 [==============================] - 0s 12ms/step - loss: 2.1328e-04 - mse: 2.1328e-04\n",
      "Epoch 42/100\n",
      "3/3 [==============================] - 0s 12ms/step - loss: 9.2696e-05 - mse: 9.2696e-05\n",
      "Epoch 43/100\n",
      "3/3 [==============================] - 0s 12ms/step - loss: 7.5286e-05 - mse: 7.5286e-05\n",
      "Epoch 44/100\n",
      "3/3 [==============================] - 0s 12ms/step - loss: 5.8353e-05 - mse: 5.8353e-05\n",
      "Epoch 45/100\n",
      "3/3 [==============================] - 0s 17ms/step - loss: 7.5152e-05 - mse: 7.5152e-05\n",
      "Epoch 46/100\n",
      "3/3 [==============================] - 0s 12ms/step - loss: 6.5250e-05 - mse: 6.5250e-05\n",
      "Epoch 47/100\n",
      "3/3 [==============================] - 0s 12ms/step - loss: 6.9870e-05 - mse: 6.9870e-05\n",
      "Epoch 48/100\n",
      "3/3 [==============================] - 0s 12ms/step - loss: 5.5675e-05 - mse: 5.5675e-05\n",
      "Epoch 49/100\n",
      "3/3 [==============================] - 0s 11ms/step - loss: 4.4395e-05 - mse: 4.4395e-05\n",
      "Epoch 50/100\n",
      "3/3 [==============================] - 0s 13ms/step - loss: 2.6782e-05 - mse: 2.6782e-05\n",
      "Epoch 51/100\n",
      "3/3 [==============================] - 0s 12ms/step - loss: 2.0003e-05 - mse: 2.0003e-05\n",
      "Epoch 52/100\n",
      "3/3 [==============================] - 0s 13ms/step - loss: 8.6029e-06 - mse: 8.6029e-06\n",
      "Epoch 53/100\n",
      "3/3 [==============================] - 0s 11ms/step - loss: 5.4244e-06 - mse: 5.4244e-06\n",
      "Epoch 54/100\n",
      "3/3 [==============================] - 0s 10ms/step - loss: 5.3444e-06 - mse: 5.3444e-06\n",
      "Epoch 55/100\n",
      "3/3 [==============================] - 0s 12ms/step - loss: 3.5269e-06 - mse: 3.5269e-06\n",
      "Epoch 56/100\n",
      "3/3 [==============================] - 0s 11ms/step - loss: 2.8273e-06 - mse: 2.8273e-06\n",
      "Epoch 57/100\n",
      "3/3 [==============================] - 0s 13ms/step - loss: 4.7246e-06 - mse: 4.7246e-06\n",
      "Epoch 58/100\n",
      "3/3 [==============================] - 0s 17ms/step - loss: 2.9666e-06 - mse: 2.9666e-06\n",
      "Epoch 59/100\n",
      "3/3 [==============================] - 0s 11ms/step - loss: 3.8996e-06 - mse: 3.8996e-06\n",
      "Epoch 60/100\n",
      "3/3 [==============================] - 0s 11ms/step - loss: 2.5971e-06 - mse: 2.5971e-06\n",
      "Epoch 61/100\n",
      "3/3 [==============================] - 0s 12ms/step - loss: 3.1939e-06 - mse: 3.1939e-06\n",
      "Epoch 62/100\n",
      "3/3 [==============================] - 0s 13ms/step - loss: 2.0448e-06 - mse: 2.0448e-06\n",
      "Epoch 63/100\n",
      "3/3 [==============================] - 0s 14ms/step - loss: 2.0207e-06 - mse: 2.0207e-06\n",
      "Epoch 64/100\n",
      "3/3 [==============================] - 0s 14ms/step - loss: 9.5288e-07 - mse: 9.5288e-07\n",
      "Epoch 65/100\n",
      "3/3 [==============================] - 0s 11ms/step - loss: 8.5715e-07 - mse: 8.5715e-07\n",
      "Epoch 66/100\n",
      "3/3 [==============================] - 0s 11ms/step - loss: 1.5277e-07 - mse: 1.5277e-07\n",
      "Epoch 67/100\n",
      "3/3 [==============================] - 0s 12ms/step - loss: 1.1513e-07 - mse: 1.1513e-07\n",
      "Epoch 68/100\n",
      "3/3 [==============================] - 0s 13ms/step - loss: 7.7911e-08 - mse: 7.7911e-08\n",
      "Epoch 69/100\n",
      "3/3 [==============================] - 0s 10ms/step - loss: 9.4890e-08 - mse: 9.4890e-08\n",
      "Epoch 70/100\n",
      "3/3 [==============================] - 0s 10ms/step - loss: 7.4782e-08 - mse: 7.4782e-08\n",
      "Epoch 71/100\n",
      "3/3 [==============================] - 0s 11ms/step - loss: 5.5739e-08 - mse: 5.5739e-08\n",
      "Epoch 72/100\n",
      "3/3 [==============================] - 0s 11ms/step - loss: 6.0783e-08 - mse: 6.0783e-08\n",
      "Epoch 73/100\n",
      "3/3 [==============================] - 0s 13ms/step - loss: 6.8239e-08 - mse: 6.8239e-08\n",
      "Epoch 74/100\n",
      "3/3 [==============================] - 0s 11ms/step - loss: 6.2826e-08 - mse: 6.2826e-08\n",
      "Epoch 75/100\n",
      "3/3 [==============================] - 0s 12ms/step - loss: 5.5914e-08 - mse: 5.5914e-08\n",
      "Epoch 76/100\n",
      "3/3 [==============================] - 0s 13ms/step - loss: 4.2888e-08 - mse: 4.2888e-08\n",
      "Epoch 77/100\n",
      "3/3 [==============================] - 0s 11ms/step - loss: 1.6465e-08 - mse: 1.6465e-08\n",
      "Epoch 78/100\n",
      "3/3 [==============================] - 0s 10ms/step - loss: 8.9601e-09 - mse: 8.9601e-09\n",
      "Epoch 79/100\n",
      "3/3 [==============================] - 0s 10ms/step - loss: 7.1390e-09 - mse: 7.1390e-09\n",
      "Epoch 80/100\n",
      "3/3 [==============================] - 0s 13ms/step - loss: 4.2671e-09 - mse: 4.2671e-09\n",
      "Epoch 81/100\n",
      "3/3 [==============================] - 0s 8ms/step - loss: 2.3422e-09 - mse: 2.3422e-09\n",
      "Epoch 82/100\n",
      "3/3 [==============================] - 0s 14ms/step - loss: 1.7055e-09 - mse: 1.7055e-09\n",
      "Epoch 83/100\n",
      "3/3 [==============================] - 0s 12ms/step - loss: 1.6072e-09 - mse: 1.6072e-09\n",
      "Epoch 84/100\n"
     ]
    },
    {
     "name": "stdout",
     "output_type": "stream",
     "text": [
      "3/3 [==============================] - 0s 11ms/step - loss: 1.7422e-09 - mse: 1.7422e-09\n",
      "Epoch 85/100\n",
      "3/3 [==============================] - 0s 10ms/step - loss: 1.8580e-09 - mse: 1.8580e-09\n",
      "Epoch 86/100\n",
      "3/3 [==============================] - 0s 10ms/step - loss: 1.2655e-09 - mse: 1.2655e-09\n",
      "Epoch 87/100\n",
      "3/3 [==============================] - 0s 11ms/step - loss: 7.7347e-10 - mse: 7.7347e-10\n",
      "Epoch 88/100\n",
      "3/3 [==============================] - 0s 11ms/step - loss: 5.2377e-10 - mse: 5.2377e-10\n",
      "Epoch 89/100\n",
      "3/3 [==============================] - 0s 11ms/step - loss: 2.3704e-10 - mse: 2.3704e-10\n",
      "Epoch 90/100\n",
      "3/3 [==============================] - 0s 11ms/step - loss: 4.1749e-10 - mse: 4.1749e-10\n",
      "Epoch 91/100\n",
      "3/3 [==============================] - 0s 14ms/step - loss: 3.5232e-10 - mse: 3.5232e-10\n",
      "Epoch 92/100\n",
      "3/3 [==============================] - 0s 11ms/step - loss: 2.1099e-10 - mse: 2.1099e-10\n",
      "Epoch 93/100\n",
      "3/3 [==============================] - 0s 11ms/step - loss: 3.3711e-10 - mse: 3.3711e-10\n",
      "Epoch 94/100\n",
      "3/3 [==============================] - 0s 10ms/step - loss: 2.6855e-10 - mse: 2.6855e-10\n",
      "Epoch 95/100\n",
      "3/3 [==============================] - 0s 11ms/step - loss: 1.7102e-10 - mse: 1.7102e-10\n",
      "Epoch 96/100\n",
      "3/3 [==============================] - 0s 12ms/step - loss: 4.9719e-11 - mse: 4.9719e-11\n",
      "Epoch 97/100\n",
      "3/3 [==============================] - 0s 13ms/step - loss: 7.0857e-11 - mse: 7.0857e-11\n",
      "Epoch 98/100\n",
      "3/3 [==============================] - 0s 10ms/step - loss: 4.2642e-11 - mse: 4.2642e-11\n",
      "Epoch 99/100\n",
      "3/3 [==============================] - 0s 10ms/step - loss: 4.1527e-11 - mse: 4.1527e-11\n",
      "Epoch 100/100\n",
      "3/3 [==============================] - 0s 12ms/step - loss: 3.6513e-11 - mse: 3.6513e-11\n"
     ]
    },
    {
     "data": {
      "text/plain": [
       "<keras.callbacks.History at 0x195c4557940>"
      ]
     },
     "execution_count": 9,
     "metadata": {},
     "output_type": "execute_result"
    }
   ],
   "source": [
    "##Train the model\n",
    "\n",
    "#init model\n",
    "model = Sequential()  \n",
    "\n",
    "#RNN\n",
    "model.add(SimpleRNN(1, activation='linear'))\n",
    "\n",
    "#compile model\n",
    "opt = Adam(learning_rate=1)\n",
    "model.compile(loss='mean_squared_error', optimizer=opt, metrics=['mse'])\n",
    "\n",
    "#train model\n",
    "model.fit(train_data, train_label, epochs=100, verbose=1)"
   ]
  },
  {
   "cell_type": "code",
   "execution_count": 10,
   "id": "46263427",
   "metadata": {},
   "outputs": [
    {
     "name": "stdout",
     "output_type": "stream",
     "text": [
      "Model: \"sequential\"\n",
      "_________________________________________________________________\n",
      " Layer (type)                Output Shape              Param #   \n",
      "=================================================================\n",
      " simple_rnn (SimpleRNN)      (None, 1)                 3         \n",
      "                                                                 \n",
      "=================================================================\n",
      "Total params: 3\n",
      "Trainable params: 3\n",
      "Non-trainable params: 0\n",
      "_________________________________________________________________\n"
     ]
    }
   ],
   "source": [
    "model.summary()"
   ]
  },
  {
   "cell_type": "code",
   "execution_count": 11,
   "id": "a3f4bff3",
   "metadata": {},
   "outputs": [
    {
     "name": "stdout",
     "output_type": "stream",
     "text": [
      "3/3 [==============================] - 0s 4ms/step\n"
     ]
    }
   ],
   "source": [
    "##Predict using the model , for known data\n",
    "preds = model.predict(train_data).flatten()"
   ]
  },
  {
   "cell_type": "code",
   "execution_count": 12,
   "id": "ef6dc3da",
   "metadata": {},
   "outputs": [
    {
     "name": "stdout",
     "output_type": "stream",
     "text": [
      "[0. 1. 2.] -> 3.000002384185791\n",
      "[1. 2. 3.] -> 3.999999523162842\n",
      "[2. 3. 4.] -> 4.999997138977051\n"
     ]
    }
   ],
   "source": [
    "\n",
    "#print some outputs\n",
    "for i in range(len(preds[:3])):\n",
    "    example = train_data[i].flatten()\n",
    "    pred = preds[i]\n",
    "    print(f'{example} -> {pred}')"
   ]
  },
  {
   "cell_type": "code",
   "execution_count": 13,
   "id": "31adbf25",
   "metadata": {},
   "outputs": [
    {
     "data": {
      "text/plain": [
       "Text(0, 0.5, 'actual')"
      ]
     },
     "execution_count": 13,
     "metadata": {},
     "output_type": "execute_result"
    },
    {
     "data": {
      "image/png": "[encoded data removed]",
      "text/plain": [
       "<Figure size 700x700 with 1 Axes>"
      ]
     },
     "metadata": {},
     "output_type": "display_data"
    }
   ],
   "source": [
    "plt.figure(figsize=(7,7))\n",
    "actuals = train_label.flatten()\n",
    "plt.plot([0,10], [0,10], color='k', linestyle='--', alpha=0.5, linewidth=2)\n",
    "plt.scatter(preds, actuals, s=100, color='r')\n",
    "plt.xlabel('predicted', fontsize=20)\n",
    "plt.ylabel('actual', fontsize=20)"
   ]
  },
  {
   "cell_type": "code",
   "execution_count": 14,
   "id": "1a527d08",
   "metadata": {},
   "outputs": [],
   "source": [
    "## Predict using the model, on unknown data\n",
    "out_of_sample_data = np.array([[6,7,8], [7,8,9], [8,9,10], [9,10,11], [10,11,12]]).reshape(5,3,1)"
   ]
  },
  {
   "cell_type": "code",
   "execution_count": 15,
   "id": "ea59f013",
   "metadata": {},
   "outputs": [
    {
     "name": "stdout",
     "output_type": "stream",
     "text": [
      "1/1 [==============================] - 0s 198ms/step\n"
     ]
    }
   ],
   "source": [
    "#make predictions using the model\n",
    "preds = model.predict(out_of_sample_data).flatten()"
   ]
  },
  {
   "cell_type": "code",
   "execution_count": 16,
   "id": "cdab1ac0",
   "metadata": {},
   "outputs": [
    {
     "name": "stdout",
     "output_type": "stream",
     "text": [
      "[6 7 8] -> 8.999987602233887\n",
      "[7 8 9] -> 9.999984741210938\n",
      "[ 8  9 10] -> 10.999980926513672\n",
      "[ 9 10 11] -> 11.999979019165039\n",
      "[10 11 12] -> 12.999977111816406\n"
     ]
    }
   ],
   "source": [
    "#print some outputs\n",
    "for i in range(len(preds)):\n",
    "    example = out_of_sample_data[i].flatten()\n",
    "    pred = preds[i]\n",
    "    print(f'{example} -> {pred}')"
   ]
  },
  {
   "cell_type": "code",
   "execution_count": 17,
   "id": "80c09d33",
   "metadata": {},
   "outputs": [
    {
     "data": {
      "text/plain": [
       "array([[0.37590408]], dtype=float32)"
      ]
     },
     "execution_count": 17,
     "metadata": {},
     "output_type": "execute_result"
    }
   ],
   "source": [
    "#Behind the scenes:\n",
    "\n",
    "#input vector weights in RNN (U)\n",
    "model.weights[0].numpy()"
   ]
  },
  {
   "cell_type": "code",
   "execution_count": 18,
   "id": "a69857c7",
   "metadata": {},
   "outputs": [
    {
     "data": {
      "text/plain": [
       "array([[-1.8821167]], dtype=float32)"
      ]
     },
     "execution_count": 18,
     "metadata": {},
     "output_type": "execute_result"
    }
   ],
   "source": [
    "#recurrent state weights in RNN (V)\n",
    "model.weights[1].numpy()"
   ]
  },
  {
   "cell_type": "code",
   "execution_count": 19,
   "id": "b51347a4",
   "metadata": {},
   "outputs": [
    {
     "data": {
      "text/plain": [
       "array([1.1110585], dtype=float32)"
      ]
     },
     "execution_count": 19,
     "metadata": {},
     "output_type": "execute_result"
    }
   ],
   "source": [
    "#bias term weights in RNN (b)\n",
    "model.weights[2].numpy()"
   ]
  },
  {
   "cell_type": "code",
   "execution_count": 20,
   "id": "4eaa7101",
   "metadata": {},
   "outputs": [
    {
     "data": {
      "text/html": [
       "<style>#sk-container-id-1 {\n",
       "  /* Definition of color scheme common for light and dark mode */\n",
       "  --sklearn-color-text: black;\n",
       "  --sklearn-color-line: gray;\n",
       "  /* Definition of color scheme for unfitted estimators */\n",
       "  --sklearn-color-unfitted-level-0: #fff5e6;\n",
       "  --sklearn-color-unfitted-level-1: #f6e4d2;\n",
       "  --sklearn-color-unfitted-level-2: #ffe0b3;\n",
       "  --sklearn-color-unfitted-level-3: chocolate;\n",
       "  /* Definition of color scheme for fitted estimators */\n",
       "  --sklearn-color-fitted-level-0: #f0f8ff;\n",
       "  --sklearn-color-fitted-level-1: #d4ebff;\n",
       "  --sklearn-color-fitted-level-2: #b3dbfd;\n",
       "  --sklearn-color-fitted-level-3: cornflowerblue;\n",
       "\n",
       "  /* Specific color for light theme */\n",
       "  --sklearn-color-text-on-default-background: var(--sg-text-color, var(--theme-code-foreground, var(--jp-content-font-color1, black)));\n",
       "  --sklearn-color-background: var(--sg-background-color, var(--theme-background, var(--jp-layout-color0, white)));\n",
       "  --sklearn-color-border-box: var(--sg-text-color, var(--theme-code-foreground, var(--jp-content-font-color1, black)));\n",
       "  --sklearn-color-icon: #696969;\n",
       "\n",
       "  @media (prefers-color-scheme: dark) {\n",
       "    /* Redefinition of color scheme for dark theme */\n",
       "    --sklearn-color-text-on-default-background: var(--sg-text-color, var(--theme-code-foreground, var(--jp-content-font-color1, white)));\n",
       "    --sklearn-color-background: var(--sg-background-color, var(--theme-background, var(--jp-layout-color0, #111)));\n",
       "    --sklearn-color-border-box: var(--sg-text-color, var(--theme-code-foreground, var(--jp-content-font-color1, white)));\n",
       "    --sklearn-color-icon: #878787;\n",
       "  }\n",
       "}\n",
       "\n",
       "#sk-container-id-1 {\n",
       "  color: var(--sklearn-color-text);\n",
       "}\n",
       "\n",
       "#sk-container-id-1 pre {\n",
       "  padding: 0;\n",
       "}\n",
       "\n",
       "#sk-container-id-1 input.sk-hidden--visually {\n",
       "  border: 0;\n",
       "  clip: rect(1px 1px 1px 1px);\n",
       "  clip: rect(1px, 1px, 1px, 1px);\n",
       "  height: 1px;\n",
       "  margin: -1px;\n",
       "  overflow: hidden;\n",
       "  padding: 0;\n",
       "  position: absolute;\n",
       "  width: 1px;\n",
       "}\n",
       "\n",
       "#sk-container-id-1 div.sk-dashed-wrapped {\n",
       "  border: 1px dashed var(--sklearn-color-line);\n",
       "  margin: 0 0.4em 0.5em 0.4em;\n",
       "  box-sizing: border-box;\n",
       "  padding-bottom: 0.4em;\n",
       "  background-color: var(--sklearn-color-background);\n",
       "}\n",
       "\n",
       "#sk-container-id-1 div.sk-container {\n",
       "  /* jupyter's `normalize.less` sets `[hidden] { display: none; }`\n",
       "     but bootstrap.min.css set `[hidden] { display: none !important; }`\n",
       "     so we also need the `!important` here to be able to override the\n",
       "     default hidden behavior on the sphinx rendered scikit-learn.org.\n",
       "     See: https://github.com/scikit-learn/scikit-learn/issues/21755 */\n",
       "  display: inline-block !important;\n",
       "  position: relative;\n",
       "}\n",
       "\n",
       "#sk-container-id-1 div.sk-text-repr-fallback {\n",
       "  display: none;\n",
       "}\n",
       "\n",
       "div.sk-parallel-item,\n",
       "div.sk-serial,\n",
       "div.sk-item {\n",
       "  /* draw centered vertical line to link estimators */\n",
       "  background-image: linear-gradient(var(--sklearn-color-text-on-default-background), var(--sklearn-color-text-on-default-background));\n",
       "  background-size: 2px 100%;\n",
       "  background-repeat: no-repeat;\n",
       "  background-position: center center;\n",
       "}\n",
       "\n",
       "/* Parallel-specific style estimator block */\n",
       "\n",
       "#sk-container-id-1 div.sk-parallel-item::after {\n",
       "  content: \"\";\n",
       "  width: 100%;\n",
       "  border-bottom: 2px solid var(--sklearn-color-text-on-default-background);\n",
       "  flex-grow: 1;\n",
       "}\n",
       "\n",
       "#sk-container-id-1 div.sk-parallel {\n",
       "  display: flex;\n",
       "  align-items: stretch;\n",
       "  justify-content: center;\n",
       "  background-color: var(--sklearn-color-background);\n",
       "  position: relative;\n",
       "}\n",
       "\n",
       "#sk-container-id-1 div.sk-parallel-item {\n",
       "  display: flex;\n",
       "  flex-direction: column;\n",
       "}\n",
       "\n",
       "#sk-container-id-1 div.sk-parallel-item:first-child::after {\n",
       "  align-self: flex-end;\n",
       "  width: 50%;\n",
       "}\n",
       "\n",
       "#sk-container-id-1 div.sk-parallel-item:last-child::after {\n",
       "  align-self: flex-start;\n",
       "  width: 50%;\n",
       "}\n",
       "\n",
       "#sk-container-id-1 div.sk-parallel-item:only-child::after {\n",
       "  width: 0;\n",
       "}\n",
       "\n",
       "/* Serial-specific style estimator block */\n",
       "\n",
       "#sk-container-id-1 div.sk-serial {\n",
       "  display: flex;\n",
       "  flex-direction: column;\n",
       "  align-items: center;\n",
       "  background-color: var(--sklearn-color-background);\n",
       "  padding-right: 1em;\n",
       "  padding-left: 1em;\n",
       "}\n",
       "\n",
       "\n",
       "/* Toggleable style: style used for estimator/Pipeline/ColumnTransformer box that is\n",
       "clickable and can be expanded/collapsed.\n",
       "- Pipeline and ColumnTransformer use this feature and define the default style\n",
       "- Estimators will overwrite some part of the style using the `sk-estimator` class\n",
       "*/\n",
       "\n",
       "/* Pipeline and ColumnTransformer style (default) */\n",
       "\n",
       "#sk-container-id-1 div.sk-toggleable {\n",
       "  /* Default theme specific background. It is overwritten whether we have a\n",
       "  specific estimator or a Pipeline/ColumnTransformer */\n",
       "  background-color: var(--sklearn-color-background);\n",
       "}\n",
       "\n",
       "/* Toggleable label */\n",
       "#sk-container-id-1 label.sk-toggleable__label {\n",
       "  cursor: pointer;\n",
       "  display: block;\n",
       "  width: 100%;\n",
       "  margin-bottom: 0;\n",
       "  padding: 0.5em;\n",
       "  box-sizing: border-box;\n",
       "  text-align: center;\n",
       "}\n",
       "\n",
       "#sk-container-id-1 label.sk-toggleable__label-arrow:before {\n",
       "  /* Arrow on the left of the label */\n",
       "  content: \"▸\";\n",
       "  float: left;\n",
       "  margin-right: 0.25em;\n",
       "  color: var(--sklearn-color-icon);\n",
       "}\n",
       "\n",
       "#sk-container-id-1 label.sk-toggleable__label-arrow:hover:before {\n",
       "  color: var(--sklearn-color-text);\n",
       "}\n",
       "\n",
       "/* Toggleable content - dropdown */\n",
       "\n",
       "#sk-container-id-1 div.sk-toggleable__content {\n",
       "  max-height: 0;\n",
       "  max-width: 0;\n",
       "  overflow: hidden;\n",
       "  text-align: left;\n",
       "  /* unfitted */\n",
       "  background-color: var(--sklearn-color-unfitted-level-0);\n",
       "}\n",
       "\n",
       "#sk-container-id-1 div.sk-toggleable__content.fitted {\n",
       "  /* fitted */\n",
       "  background-color: var(--sklearn-color-fitted-level-0);\n",
       "}\n",
       "\n",
       "#sk-container-id-1 div.sk-toggleable__content pre {\n",
       "  margin: 0.2em;\n",
       "  border-radius: 0.25em;\n",
       "  color: var(--sklearn-color-text);\n",
       "  /* unfitted */\n",
       "  background-color: var(--sklearn-color-unfitted-level-0);\n",
       "}\n",
       "\n",
       "#sk-container-id-1 div.sk-toggleable__content.fitted pre {\n",
       "  /* unfitted */\n",
       "  background-color: var(--sklearn-color-fitted-level-0);\n",
       "}\n",
       "\n",
       "#sk-container-id-1 input.sk-toggleable__control:checked~div.sk-toggleable__content {\n",
       "  /* Expand drop-down */\n",
       "  max-height: 200px;\n",
       "  max-width: 100%;\n",
       "  overflow: auto;\n",
       "}\n",
       "\n",
       "#sk-container-id-1 input.sk-toggleable__control:checked~label.sk-toggleable__label-arrow:before {\n",
       "  content: \"▾\";\n",
       "}\n",
       "\n",
       "/* Pipeline/ColumnTransformer-specific style */\n",
       "\n",
       "#sk-container-id-1 div.sk-label input.sk-toggleable__control:checked~label.sk-toggleable__label {\n",
       "  color: var(--sklearn-color-text);\n",
       "  background-color: var(--sklearn-color-unfitted-level-2);\n",
       "}\n",
       "\n",
       "#sk-container-id-1 div.sk-label.fitted input.sk-toggleable__control:checked~label.sk-toggleable__label {\n",
       "  background-color: var(--sklearn-color-fitted-level-2);\n",
       "}\n",
       "\n",
       "/* Estimator-specific style */\n",
       "\n",
       "/* Colorize estimator box */\n",
       "#sk-container-id-1 div.sk-estimator input.sk-toggleable__control:checked~label.sk-toggleable__label {\n",
       "  /* unfitted */\n",
       "  background-color: var(--sklearn-color-unfitted-level-2);\n",
       "}\n",
       "\n",
       "#sk-container-id-1 div.sk-estimator.fitted input.sk-toggleable__control:checked~label.sk-toggleable__label {\n",
       "  /* fitted */\n",
       "  background-color: var(--sklearn-color-fitted-level-2);\n",
       "}\n",
       "\n",
       "#sk-container-id-1 div.sk-label label.sk-toggleable__label,\n",
       "#sk-container-id-1 div.sk-label label {\n",
       "  /* The background is the default theme color */\n",
       "  color: var(--sklearn-color-text-on-default-background);\n",
       "}\n",
       "\n",
       "/* On hover, darken the color of the background */\n",
       "#sk-container-id-1 div.sk-label:hover label.sk-toggleable__label {\n",
       "  color: var(--sklearn-color-text);\n",
       "  background-color: var(--sklearn-color-unfitted-level-2);\n",
       "}\n",
       "\n",
       "/* Label box, darken color on hover, fitted */\n",
       "#sk-container-id-1 div.sk-label.fitted:hover label.sk-toggleable__label.fitted {\n",
       "  color: var(--sklearn-color-text);\n",
       "  background-color: var(--sklearn-color-fitted-level-2);\n",
       "}\n",
       "\n",
       "/* Estimator label */\n",
       "\n",
       "#sk-container-id-1 div.sk-label label {\n",
       "  font-family: monospace;\n",
       "  font-weight: bold;\n",
       "  display: inline-block;\n",
       "  line-height: 1.2em;\n",
       "}\n",
       "\n",
       "#sk-container-id-1 div.sk-label-container {\n",
       "  text-align: center;\n",
       "}\n",
       "\n",
       "/* Estimator-specific */\n",
       "#sk-container-id-1 div.sk-estimator {\n",
       "  font-family: monospace;\n",
       "  border: 1px dotted var(--sklearn-color-border-box);\n",
       "  border-radius: 0.25em;\n",
       "  box-sizing: border-box;\n",
       "  margin-bottom: 0.5em;\n",
       "  /* unfitted */\n",
       "  background-color: var(--sklearn-color-unfitted-level-0);\n",
       "}\n",
       "\n",
       "#sk-container-id-1 div.sk-estimator.fitted {\n",
       "  /* fitted */\n",
       "  background-color: var(--sklearn-color-fitted-level-0);\n",
       "}\n",
       "\n",
       "/* on hover */\n",
       "#sk-container-id-1 div.sk-estimator:hover {\n",
       "  /* unfitted */\n",
       "  background-color: var(--sklearn-color-unfitted-level-2);\n",
       "}\n",
       "\n",
       "#sk-container-id-1 div.sk-estimator.fitted:hover {\n",
       "  /* fitted */\n",
       "  background-color: var(--sklearn-color-fitted-level-2);\n",
       "}\n",
       "\n",
       "/* Specification for estimator info (e.g. \"i\" and \"?\") */\n",
       "\n",
       "/* Common style for \"i\" and \"?\" */\n",
       "\n",
       ".sk-estimator-doc-link,\n",
       "a:link.sk-estimator-doc-link,\n",
       "a:visited.sk-estimator-doc-link {\n",
       "  float: right;\n",
       "  font-size: smaller;\n",
       "  line-height: 1em;\n",
       "  font-family: monospace;\n",
       "  background-color: var(--sklearn-color-background);\n",
       "  border-radius: 1em;\n",
       "  height: 1em;\n",
       "  width: 1em;\n",
       "  text-decoration: none !important;\n",
       "  margin-left: 1ex;\n",
       "  /* unfitted */\n",
       "  border: var(--sklearn-color-unfitted-level-1) 1pt solid;\n",
       "  color: var(--sklearn-color-unfitted-level-1);\n",
       "}\n",
       "\n",
       ".sk-estimator-doc-link.fitted,\n",
       "a:link.sk-estimator-doc-link.fitted,\n",
       "a:visited.sk-estimator-doc-link.fitted {\n",
       "  /* fitted */\n",
       "  border: var(--sklearn-color-fitted-level-1) 1pt solid;\n",
       "  color: var(--sklearn-color-fitted-level-1);\n",
       "}\n",
       "\n",
       "/* On hover */\n",
       "div.sk-estimator:hover .sk-estimator-doc-link:hover,\n",
       ".sk-estimator-doc-link:hover,\n",
       "div.sk-label-container:hover .sk-estimator-doc-link:hover,\n",
       ".sk-estimator-doc-link:hover {\n",
       "  /* unfitted */\n",
       "  background-color: var(--sklearn-color-unfitted-level-3);\n",
       "  color: var(--sklearn-color-background);\n",
       "  text-decoration: none;\n",
       "}\n",
       "\n",
       "div.sk-estimator.fitted:hover .sk-estimator-doc-link.fitted:hover,\n",
       ".sk-estimator-doc-link.fitted:hover,\n",
       "div.sk-label-container:hover .sk-estimator-doc-link.fitted:hover,\n",
       ".sk-estimator-doc-link.fitted:hover {\n",
       "  /* fitted */\n",
       "  background-color: var(--sklearn-color-fitted-level-3);\n",
       "  color: var(--sklearn-color-background);\n",
       "  text-decoration: none;\n",
       "}\n",
       "\n",
       "/* Span, style for the box shown on hovering the info icon */\n",
       ".sk-estimator-doc-link span {\n",
       "  display: none;\n",
       "  z-index: 9999;\n",
       "  position: relative;\n",
       "  font-weight: normal;\n",
       "  right: .2ex;\n",
       "  padding: .5ex;\n",
       "  margin: .5ex;\n",
       "  width: min-content;\n",
       "  min-width: 20ex;\n",
       "  max-width: 50ex;\n",
       "  color: var(--sklearn-color-text);\n",
       "  box-shadow: 2pt 2pt 4pt #999;\n",
       "  /* unfitted */\n",
       "  background: var(--sklearn-color-unfitted-level-0);\n",
       "  border: .5pt solid var(--sklearn-color-unfitted-level-3);\n",
       "}\n",
       "\n",
       ".sk-estimator-doc-link.fitted span {\n",
       "  /* fitted */\n",
       "  background: var(--sklearn-color-fitted-level-0);\n",
       "  border: var(--sklearn-color-fitted-level-3);\n",
       "}\n",
       "\n",
       ".sk-estimator-doc-link:hover span {\n",
       "  display: block;\n",
       "}\n",
       "\n",
       "/* \"?\"-specific style due to the `<a>` HTML tag */\n",
       "\n",
       "#sk-container-id-1 a.estimator_doc_link {\n",
       "  float: right;\n",
       "  font-size: 1rem;\n",
       "  line-height: 1em;\n",
       "  font-family: monospace;\n",
       "  background-color: var(--sklearn-color-background);\n",
       "  border-radius: 1rem;\n",
       "  height: 1rem;\n",
       "  width: 1rem;\n",
       "  text-decoration: none;\n",
       "  /* unfitted */\n",
       "  color: var(--sklearn-color-unfitted-level-1);\n",
       "  border: var(--sklearn-color-unfitted-level-1) 1pt solid;\n",
       "}\n",
       "\n",
       "#sk-container-id-1 a.estimator_doc_link.fitted {\n",
       "  /* fitted */\n",
       "  border: var(--sklearn-color-fitted-level-1) 1pt solid;\n",
       "  color: var(--sklearn-color-fitted-level-1);\n",
       "}\n",
       "\n",
       "/* On hover */\n",
       "#sk-container-id-1 a.estimator_doc_link:hover {\n",
       "  /* unfitted */\n",
       "  background-color: var(--sklearn-color-unfitted-level-3);\n",
       "  color: var(--sklearn-color-background);\n",
       "  text-decoration: none;\n",
       "}\n",
       "\n",
       "#sk-container-id-1 a.estimator_doc_link.fitted:hover {\n",
       "  /* fitted */\n",
       "  background-color: var(--sklearn-color-fitted-level-3);\n",
       "}\n",
       "</style><div id=\"sk-container-id-1\" class=\"sk-top-container\"><div class=\"sk-text-repr-fallback\"><pre>LinearRegression()</pre><b>In a Jupyter environment, please rerun this cell to show the HTML representation or trust the notebook. <br />On GitHub, the HTML representation is unable to render, please try loading this page with nbviewer.org.</b></div><div class=\"sk-container\" hidden><div class=\"sk-item\"><div class=\"sk-estimator fitted sk-toggleable\"><input class=\"sk-toggleable__control sk-hidden--visually\" id=\"sk-estimator-id-1\" type=\"checkbox\" checked><label for=\"sk-estimator-id-1\" class=\"sk-toggleable__label fitted sk-toggleable__label-arrow fitted\">&nbsp;&nbsp;LinearRegression<a class=\"sk-estimator-doc-link fitted\" rel=\"noreferrer\" target=\"_blank\" href=\"https://scikit-learn.org/1.4/modules/generated/sklearn.linear_model.LinearRegression.html\">?<span>Documentation for LinearRegression</span></a><span class=\"sk-estimator-doc-link fitted\">i<span>Fitted</span></span></label><div class=\"sk-toggleable__content fitted\"><pre>LinearRegression()</pre></div> </div></div></div></div>"
      ],
      "text/plain": [
       "LinearRegression()"
      ]
     },
     "execution_count": 20,
     "metadata": {},
     "output_type": "execute_result"
    }
   ],
   "source": [
    "clf = LinearRegression()\n",
    "clf.fit(train_data.reshape((train_data.shape[0], -1)), train_label.flatten())"
   ]
  },
  {
   "cell_type": "code",
   "execution_count": 21,
   "id": "0958690c",
   "metadata": {},
   "outputs": [],
   "source": [
    "#make predictions using the linear model\n",
    "n = out_of_sample_data.shape[0]\n",
    "preds = clf.predict(out_of_sample_data.reshape(n,-1)).flatten()"
   ]
  },
  {
   "cell_type": "code",
   "execution_count": 22,
   "id": "f1c613b1",
   "metadata": {},
   "outputs": [
    {
     "name": "stdout",
     "output_type": "stream",
     "text": [
      "[6 7 8] -> 9.0\n",
      "[7 8 9] -> 10.0\n",
      "[ 8  9 10] -> 11.0\n",
      "[ 9 10 11] -> 11.999999999999998\n",
      "[10 11 12] -> 13.0\n"
     ]
    }
   ],
   "source": [
    "#print some outputs\n",
    "for i in range(len(preds)):\n",
    "    example = out_of_sample_data[i].flatten()\n",
    "    pred = preds[i]\n",
    "    print(f'{example} -> {pred}')"
   ]
  },
  {
   "cell_type": "code",
   "execution_count": 23,
   "id": "0db5b11b",
   "metadata": {},
   "outputs": [],
   "source": [
    "## A new example where the data is not so easily interpretable , it is in the form of a sigmoid"
   ]
  },
  {
   "cell_type": "code",
   "execution_count": 24,
   "id": "a947ff72",
   "metadata": {},
   "outputs": [],
   "source": [
    "def sigmoid(v):\n",
    "    return 1.0 / (1.0 + np.exp(-v))"
   ]
  },
  {
   "cell_type": "code",
   "execution_count": 25,
   "id": "ed88c0d5",
   "metadata": {},
   "outputs": [],
   "source": [
    "sequence = np.sin(np.arange(0,6*3.14159,0.1))\n",
    "sequence += np.random.normal(0,0.05,len(sequence))"
   ]
  },
  {
   "cell_type": "code",
   "execution_count": 26,
   "id": "dab573a7",
   "metadata": {},
   "outputs": [
    {
     "data": {
      "text/plain": [
       "<matplotlib.collections.PathCollection at 0x195c9a73df0>"
      ]
     },
     "execution_count": 26,
     "metadata": {},
     "output_type": "execute_result"
    },
    {
     "data": {
      "image/png": "[encoded data removed]",
      "text/plain": [
       "<Figure size 1200x400 with 1 Axes>"
      ]
     },
     "metadata": {},
     "output_type": "display_data"
    }
   ],
   "source": [
    "plt.figure(figsize=(12,4))\n",
    "plt.plot(sequence)\n",
    "plt.scatter(range(len(sequence)), sequence)"
   ]
  },
  {
   "cell_type": "code",
   "execution_count": 27,
   "id": "4111221f",
   "metadata": {},
   "outputs": [
    {
     "data": {
      "text/plain": [
       "array([[[0.08121727],\n",
       "        [0.0692456 ],\n",
       "        [0.17226074]],\n",
       "\n",
       "       [[0.0692456 ],\n",
       "        [0.17226074],\n",
       "        [0.24187178]],\n",
       "\n",
       "       [[0.17226074],\n",
       "        [0.24187178],\n",
       "        [0.43268872]],\n",
       "\n",
       "       [[0.24187178],\n",
       "        [0.43268872],\n",
       "        [0.3643486 ]],\n",
       "\n",
       "       [[0.43268872],\n",
       "        [0.3643486 ],\n",
       "        [0.65188306]]])"
      ]
     },
     "execution_count": 27,
     "metadata": {},
     "output_type": "execute_result"
    }
   ],
   "source": [
    "#generate training data\n",
    "train_data = [np.array(sequence[i:i+window_size]).reshape(1,-1) for i in range(sequence.shape[0]-window_size)]\n",
    "train_data = np.concatenate(train_data*10, axis=0)\n",
    "train_data = train_data.reshape(train_data.shape[0], train_data.shape[1], 1)\n",
    "train_data[:5]"
   ]
  },
  {
   "cell_type": "code",
   "execution_count": 28,
   "id": "f24e229b",
   "metadata": {},
   "outputs": [],
   "source": [
    "#get training labels\n",
    "train_label = [sequence[i+window_size] for i in range(sequence.shape[0]-window_size)]\n",
    "train_label = np.concatenate([train_label]*10).reshape(-1,1)"
   ]
  },
  {
   "cell_type": "code",
   "execution_count": 29,
   "id": "8b2dd890",
   "metadata": {},
   "outputs": [
    {
     "data": {
      "text/plain": [
       "array([[0.24187178],\n",
       "       [0.43268872],\n",
       "       [0.3643486 ],\n",
       "       [0.65188306],\n",
       "       [0.60615734]])"
      ]
     },
     "execution_count": 29,
     "metadata": {},
     "output_type": "execute_result"
    }
   ],
   "source": [
    "train_label[:5]"
   ]
  },
  {
   "cell_type": "code",
   "execution_count": 30,
   "id": "7afd1a47",
   "metadata": {},
   "outputs": [
    {
     "data": {
      "text/html": [
       "<style>#sk-container-id-2 {\n",
       "  /* Definition of color scheme common for light and dark mode */\n",
       "  --sklearn-color-text: black;\n",
       "  --sklearn-color-line: gray;\n",
       "  /* Definition of color scheme for unfitted estimators */\n",
       "  --sklearn-color-unfitted-level-0: #fff5e6;\n",
       "  --sklearn-color-unfitted-level-1: #f6e4d2;\n",
       "  --sklearn-color-unfitted-level-2: #ffe0b3;\n",
       "  --sklearn-color-unfitted-level-3: chocolate;\n",
       "  /* Definition of color scheme for fitted estimators */\n",
       "  --sklearn-color-fitted-level-0: #f0f8ff;\n",
       "  --sklearn-color-fitted-level-1: #d4ebff;\n",
       "  --sklearn-color-fitted-level-2: #b3dbfd;\n",
       "  --sklearn-color-fitted-level-3: cornflowerblue;\n",
       "\n",
       "  /* Specific color for light theme */\n",
       "  --sklearn-color-text-on-default-background: var(--sg-text-color, var(--theme-code-foreground, var(--jp-content-font-color1, black)));\n",
       "  --sklearn-color-background: var(--sg-background-color, var(--theme-background, var(--jp-layout-color0, white)));\n",
       "  --sklearn-color-border-box: var(--sg-text-color, var(--theme-code-foreground, var(--jp-content-font-color1, black)));\n",
       "  --sklearn-color-icon: #696969;\n",
       "\n",
       "  @media (prefers-color-scheme: dark) {\n",
       "    /* Redefinition of color scheme for dark theme */\n",
       "    --sklearn-color-text-on-default-background: var(--sg-text-color, var(--theme-code-foreground, var(--jp-content-font-color1, white)));\n",
       "    --sklearn-color-background: var(--sg-background-color, var(--theme-background, var(--jp-layout-color0, #111)));\n",
       "    --sklearn-color-border-box: var(--sg-text-color, var(--theme-code-foreground, var(--jp-content-font-color1, white)));\n",
       "    --sklearn-color-icon: #878787;\n",
       "  }\n",
       "}\n",
       "\n",
       "#sk-container-id-2 {\n",
       "  color: var(--sklearn-color-text);\n",
       "}\n",
       "\n",
       "#sk-container-id-2 pre {\n",
       "  padding: 0;\n",
       "}\n",
       "\n",
       "#sk-container-id-2 input.sk-hidden--visually {\n",
       "  border: 0;\n",
       "  clip: rect(1px 1px 1px 1px);\n",
       "  clip: rect(1px, 1px, 1px, 1px);\n",
       "  height: 1px;\n",
       "  margin: -1px;\n",
       "  overflow: hidden;\n",
       "  padding: 0;\n",
       "  position: absolute;\n",
       "  width: 1px;\n",
       "}\n",
       "\n",
       "#sk-container-id-2 div.sk-dashed-wrapped {\n",
       "  border: 1px dashed var(--sklearn-color-line);\n",
       "  margin: 0 0.4em 0.5em 0.4em;\n",
       "  box-sizing: border-box;\n",
       "  padding-bottom: 0.4em;\n",
       "  background-color: var(--sklearn-color-background);\n",
       "}\n",
       "\n",
       "#sk-container-id-2 div.sk-container {\n",
       "  /* jupyter's `normalize.less` sets `[hidden] { display: none; }`\n",
       "     but bootstrap.min.css set `[hidden] { display: none !important; }`\n",
       "     so we also need the `!important` here to be able to override the\n",
       "     default hidden behavior on the sphinx rendered scikit-learn.org.\n",
       "     See: https://github.com/scikit-learn/scikit-learn/issues/21755 */\n",
       "  display: inline-block !important;\n",
       "  position: relative;\n",
       "}\n",
       "\n",
       "#sk-container-id-2 div.sk-text-repr-fallback {\n",
       "  display: none;\n",
       "}\n",
       "\n",
       "div.sk-parallel-item,\n",
       "div.sk-serial,\n",
       "div.sk-item {\n",
       "  /* draw centered vertical line to link estimators */\n",
       "  background-image: linear-gradient(var(--sklearn-color-text-on-default-background), var(--sklearn-color-text-on-default-background));\n",
       "  background-size: 2px 100%;\n",
       "  background-repeat: no-repeat;\n",
       "  background-position: center center;\n",
       "}\n",
       "\n",
       "/* Parallel-specific style estimator block */\n",
       "\n",
       "#sk-container-id-2 div.sk-parallel-item::after {\n",
       "  content: \"\";\n",
       "  width: 100%;\n",
       "  border-bottom: 2px solid var(--sklearn-color-text-on-default-background);\n",
       "  flex-grow: 1;\n",
       "}\n",
       "\n",
       "#sk-container-id-2 div.sk-parallel {\n",
       "  display: flex;\n",
       "  align-items: stretch;\n",
       "  justify-content: center;\n",
       "  background-color: var(--sklearn-color-background);\n",
       "  position: relative;\n",
       "}\n",
       "\n",
       "#sk-container-id-2 div.sk-parallel-item {\n",
       "  display: flex;\n",
       "  flex-direction: column;\n",
       "}\n",
       "\n",
       "#sk-container-id-2 div.sk-parallel-item:first-child::after {\n",
       "  align-self: flex-end;\n",
       "  width: 50%;\n",
       "}\n",
       "\n",
       "#sk-container-id-2 div.sk-parallel-item:last-child::after {\n",
       "  align-self: flex-start;\n",
       "  width: 50%;\n",
       "}\n",
       "\n",
       "#sk-container-id-2 div.sk-parallel-item:only-child::after {\n",
       "  width: 0;\n",
       "}\n",
       "\n",
       "/* Serial-specific style estimator block */\n",
       "\n",
       "#sk-container-id-2 div.sk-serial {\n",
       "  display: flex;\n",
       "  flex-direction: column;\n",
       "  align-items: center;\n",
       "  background-color: var(--sklearn-color-background);\n",
       "  padding-right: 1em;\n",
       "  padding-left: 1em;\n",
       "}\n",
       "\n",
       "\n",
       "/* Toggleable style: style used for estimator/Pipeline/ColumnTransformer box that is\n",
       "clickable and can be expanded/collapsed.\n",
       "- Pipeline and ColumnTransformer use this feature and define the default style\n",
       "- Estimators will overwrite some part of the style using the `sk-estimator` class\n",
       "*/\n",
       "\n",
       "/* Pipeline and ColumnTransformer style (default) */\n",
       "\n",
       "#sk-container-id-2 div.sk-toggleable {\n",
       "  /* Default theme specific background. It is overwritten whether we have a\n",
       "  specific estimator or a Pipeline/ColumnTransformer */\n",
       "  background-color: var(--sklearn-color-background);\n",
       "}\n",
       "\n",
       "/* Toggleable label */\n",
       "#sk-container-id-2 label.sk-toggleable__label {\n",
       "  cursor: pointer;\n",
       "  display: block;\n",
       "  width: 100%;\n",
       "  margin-bottom: 0;\n",
       "  padding: 0.5em;\n",
       "  box-sizing: border-box;\n",
       "  text-align: center;\n",
       "}\n",
       "\n",
       "#sk-container-id-2 label.sk-toggleable__label-arrow:before {\n",
       "  /* Arrow on the left of the label */\n",
       "  content: \"▸\";\n",
       "  float: left;\n",
       "  margin-right: 0.25em;\n",
       "  color: var(--sklearn-color-icon);\n",
       "}\n",
       "\n",
       "#sk-container-id-2 label.sk-toggleable__label-arrow:hover:before {\n",
       "  color: var(--sklearn-color-text);\n",
       "}\n",
       "\n",
       "/* Toggleable content - dropdown */\n",
       "\n",
       "#sk-container-id-2 div.sk-toggleable__content {\n",
       "  max-height: 0;\n",
       "  max-width: 0;\n",
       "  overflow: hidden;\n",
       "  text-align: left;\n",
       "  /* unfitted */\n",
       "  background-color: var(--sklearn-color-unfitted-level-0);\n",
       "}\n",
       "\n",
       "#sk-container-id-2 div.sk-toggleable__content.fitted {\n",
       "  /* fitted */\n",
       "  background-color: var(--sklearn-color-fitted-level-0);\n",
       "}\n",
       "\n",
       "#sk-container-id-2 div.sk-toggleable__content pre {\n",
       "  margin: 0.2em;\n",
       "  border-radius: 0.25em;\n",
       "  color: var(--sklearn-color-text);\n",
       "  /* unfitted */\n",
       "  background-color: var(--sklearn-color-unfitted-level-0);\n",
       "}\n",
       "\n",
       "#sk-container-id-2 div.sk-toggleable__content.fitted pre {\n",
       "  /* unfitted */\n",
       "  background-color: var(--sklearn-color-fitted-level-0);\n",
       "}\n",
       "\n",
       "#sk-container-id-2 input.sk-toggleable__control:checked~div.sk-toggleable__content {\n",
       "  /* Expand drop-down */\n",
       "  max-height: 200px;\n",
       "  max-width: 100%;\n",
       "  overflow: auto;\n",
       "}\n",
       "\n",
       "#sk-container-id-2 input.sk-toggleable__control:checked~label.sk-toggleable__label-arrow:before {\n",
       "  content: \"▾\";\n",
       "}\n",
       "\n",
       "/* Pipeline/ColumnTransformer-specific style */\n",
       "\n",
       "#sk-container-id-2 div.sk-label input.sk-toggleable__control:checked~label.sk-toggleable__label {\n",
       "  color: var(--sklearn-color-text);\n",
       "  background-color: var(--sklearn-color-unfitted-level-2);\n",
       "}\n",
       "\n",
       "#sk-container-id-2 div.sk-label.fitted input.sk-toggleable__control:checked~label.sk-toggleable__label {\n",
       "  background-color: var(--sklearn-color-fitted-level-2);\n",
       "}\n",
       "\n",
       "/* Estimator-specific style */\n",
       "\n",
       "/* Colorize estimator box */\n",
       "#sk-container-id-2 div.sk-estimator input.sk-toggleable__control:checked~label.sk-toggleable__label {\n",
       "  /* unfitted */\n",
       "  background-color: var(--sklearn-color-unfitted-level-2);\n",
       "}\n",
       "\n",
       "#sk-container-id-2 div.sk-estimator.fitted input.sk-toggleable__control:checked~label.sk-toggleable__label {\n",
       "  /* fitted */\n",
       "  background-color: var(--sklearn-color-fitted-level-2);\n",
       "}\n",
       "\n",
       "#sk-container-id-2 div.sk-label label.sk-toggleable__label,\n",
       "#sk-container-id-2 div.sk-label label {\n",
       "  /* The background is the default theme color */\n",
       "  color: var(--sklearn-color-text-on-default-background);\n",
       "}\n",
       "\n",
       "/* On hover, darken the color of the background */\n",
       "#sk-container-id-2 div.sk-label:hover label.sk-toggleable__label {\n",
       "  color: var(--sklearn-color-text);\n",
       "  background-color: var(--sklearn-color-unfitted-level-2);\n",
       "}\n",
       "\n",
       "/* Label box, darken color on hover, fitted */\n",
       "#sk-container-id-2 div.sk-label.fitted:hover label.sk-toggleable__label.fitted {\n",
       "  color: var(--sklearn-color-text);\n",
       "  background-color: var(--sklearn-color-fitted-level-2);\n",
       "}\n",
       "\n",
       "/* Estimator label */\n",
       "\n",
       "#sk-container-id-2 div.sk-label label {\n",
       "  font-family: monospace;\n",
       "  font-weight: bold;\n",
       "  display: inline-block;\n",
       "  line-height: 1.2em;\n",
       "}\n",
       "\n",
       "#sk-container-id-2 div.sk-label-container {\n",
       "  text-align: center;\n",
       "}\n",
       "\n",
       "/* Estimator-specific */\n",
       "#sk-container-id-2 div.sk-estimator {\n",
       "  font-family: monospace;\n",
       "  border: 1px dotted var(--sklearn-color-border-box);\n",
       "  border-radius: 0.25em;\n",
       "  box-sizing: border-box;\n",
       "  margin-bottom: 0.5em;\n",
       "  /* unfitted */\n",
       "  background-color: var(--sklearn-color-unfitted-level-0);\n",
       "}\n",
       "\n",
       "#sk-container-id-2 div.sk-estimator.fitted {\n",
       "  /* fitted */\n",
       "  background-color: var(--sklearn-color-fitted-level-0);\n",
       "}\n",
       "\n",
       "/* on hover */\n",
       "#sk-container-id-2 div.sk-estimator:hover {\n",
       "  /* unfitted */\n",
       "  background-color: var(--sklearn-color-unfitted-level-2);\n",
       "}\n",
       "\n",
       "#sk-container-id-2 div.sk-estimator.fitted:hover {\n",
       "  /* fitted */\n",
       "  background-color: var(--sklearn-color-fitted-level-2);\n",
       "}\n",
       "\n",
       "/* Specification for estimator info (e.g. \"i\" and \"?\") */\n",
       "\n",
       "/* Common style for \"i\" and \"?\" */\n",
       "\n",
       ".sk-estimator-doc-link,\n",
       "a:link.sk-estimator-doc-link,\n",
       "a:visited.sk-estimator-doc-link {\n",
       "  float: right;\n",
       "  font-size: smaller;\n",
       "  line-height: 1em;\n",
       "  font-family: monospace;\n",
       "  background-color: var(--sklearn-color-background);\n",
       "  border-radius: 1em;\n",
       "  height: 1em;\n",
       "  width: 1em;\n",
       "  text-decoration: none !important;\n",
       "  margin-left: 1ex;\n",
       "  /* unfitted */\n",
       "  border: var(--sklearn-color-unfitted-level-1) 1pt solid;\n",
       "  color: var(--sklearn-color-unfitted-level-1);\n",
       "}\n",
       "\n",
       ".sk-estimator-doc-link.fitted,\n",
       "a:link.sk-estimator-doc-link.fitted,\n",
       "a:visited.sk-estimator-doc-link.fitted {\n",
       "  /* fitted */\n",
       "  border: var(--sklearn-color-fitted-level-1) 1pt solid;\n",
       "  color: var(--sklearn-color-fitted-level-1);\n",
       "}\n",
       "\n",
       "/* On hover */\n",
       "div.sk-estimator:hover .sk-estimator-doc-link:hover,\n",
       ".sk-estimator-doc-link:hover,\n",
       "div.sk-label-container:hover .sk-estimator-doc-link:hover,\n",
       ".sk-estimator-doc-link:hover {\n",
       "  /* unfitted */\n",
       "  background-color: var(--sklearn-color-unfitted-level-3);\n",
       "  color: var(--sklearn-color-background);\n",
       "  text-decoration: none;\n",
       "}\n",
       "\n",
       "div.sk-estimator.fitted:hover .sk-estimator-doc-link.fitted:hover,\n",
       ".sk-estimator-doc-link.fitted:hover,\n",
       "div.sk-label-container:hover .sk-estimator-doc-link.fitted:hover,\n",
       ".sk-estimator-doc-link.fitted:hover {\n",
       "  /* fitted */\n",
       "  background-color: var(--sklearn-color-fitted-level-3);\n",
       "  color: var(--sklearn-color-background);\n",
       "  text-decoration: none;\n",
       "}\n",
       "\n",
       "/* Span, style for the box shown on hovering the info icon */\n",
       ".sk-estimator-doc-link span {\n",
       "  display: none;\n",
       "  z-index: 9999;\n",
       "  position: relative;\n",
       "  font-weight: normal;\n",
       "  right: .2ex;\n",
       "  padding: .5ex;\n",
       "  margin: .5ex;\n",
       "  width: min-content;\n",
       "  min-width: 20ex;\n",
       "  max-width: 50ex;\n",
       "  color: var(--sklearn-color-text);\n",
       "  box-shadow: 2pt 2pt 4pt #999;\n",
       "  /* unfitted */\n",
       "  background: var(--sklearn-color-unfitted-level-0);\n",
       "  border: .5pt solid var(--sklearn-color-unfitted-level-3);\n",
       "}\n",
       "\n",
       ".sk-estimator-doc-link.fitted span {\n",
       "  /* fitted */\n",
       "  background: var(--sklearn-color-fitted-level-0);\n",
       "  border: var(--sklearn-color-fitted-level-3);\n",
       "}\n",
       "\n",
       ".sk-estimator-doc-link:hover span {\n",
       "  display: block;\n",
       "}\n",
       "\n",
       "/* \"?\"-specific style due to the `<a>` HTML tag */\n",
       "\n",
       "#sk-container-id-2 a.estimator_doc_link {\n",
       "  float: right;\n",
       "  font-size: 1rem;\n",
       "  line-height: 1em;\n",
       "  font-family: monospace;\n",
       "  background-color: var(--sklearn-color-background);\n",
       "  border-radius: 1rem;\n",
       "  height: 1rem;\n",
       "  width: 1rem;\n",
       "  text-decoration: none;\n",
       "  /* unfitted */\n",
       "  color: var(--sklearn-color-unfitted-level-1);\n",
       "  border: var(--sklearn-color-unfitted-level-1) 1pt solid;\n",
       "}\n",
       "\n",
       "#sk-container-id-2 a.estimator_doc_link.fitted {\n",
       "  /* fitted */\n",
       "  border: var(--sklearn-color-fitted-level-1) 1pt solid;\n",
       "  color: var(--sklearn-color-fitted-level-1);\n",
       "}\n",
       "\n",
       "/* On hover */\n",
       "#sk-container-id-2 a.estimator_doc_link:hover {\n",
       "  /* unfitted */\n",
       "  background-color: var(--sklearn-color-unfitted-level-3);\n",
       "  color: var(--sklearn-color-background);\n",
       "  text-decoration: none;\n",
       "}\n",
       "\n",
       "#sk-container-id-2 a.estimator_doc_link.fitted:hover {\n",
       "  /* fitted */\n",
       "  background-color: var(--sklearn-color-fitted-level-3);\n",
       "}\n",
       "</style><div id=\"sk-container-id-2\" class=\"sk-top-container\"><div class=\"sk-text-repr-fallback\"><pre>LinearRegression()</pre><b>In a Jupyter environment, please rerun this cell to show the HTML representation or trust the notebook. <br />On GitHub, the HTML representation is unable to render, please try loading this page with nbviewer.org.</b></div><div class=\"sk-container\" hidden><div class=\"sk-item\"><div class=\"sk-estimator fitted sk-toggleable\"><input class=\"sk-toggleable__control sk-hidden--visually\" id=\"sk-estimator-id-2\" type=\"checkbox\" checked><label for=\"sk-estimator-id-2\" class=\"sk-toggleable__label fitted sk-toggleable__label-arrow fitted\">&nbsp;&nbsp;LinearRegression<a class=\"sk-estimator-doc-link fitted\" rel=\"noreferrer\" target=\"_blank\" href=\"https://scikit-learn.org/1.4/modules/generated/sklearn.linear_model.LinearRegression.html\">?<span>Documentation for LinearRegression</span></a><span class=\"sk-estimator-doc-link fitted\">i<span>Fitted</span></span></label><div class=\"sk-toggleable__content fitted\"><pre>LinearRegression()</pre></div> </div></div></div></div>"
      ],
      "text/plain": [
       "LinearRegression()"
      ]
     },
     "execution_count": 30,
     "metadata": {},
     "output_type": "execute_result"
    }
   ],
   "source": [
    "#Let's try a linear model\n",
    "clf = LinearRegression()\n",
    "clf.fit(train_data.reshape((train_data.shape[0], -1)), train_label.flatten())"
   ]
  },
  {
   "cell_type": "code",
   "execution_count": 31,
   "id": "6c95eb62",
   "metadata": {},
   "outputs": [],
   "source": [
    "#make predictions using the linear model\n",
    "preds = []\n",
    "input_vec = train_data[-1].copy()\n",
    "for _ in range(15):\n",
    "    pred = clf.predict(input_vec.reshape(1,-1)).flatten()\n",
    "    preds.append(pred[0])\n",
    "    input_vec[0][-1] = pred[0]"
   ]
  },
  {
   "cell_type": "code",
   "execution_count": 32,
   "id": "367e8d19",
   "metadata": {},
   "outputs": [
    {
     "data": {
      "text/plain": [
       "<matplotlib.collections.PathCollection at 0x195c85fabf0>"
      ]
     },
     "execution_count": 32,
     "metadata": {},
     "output_type": "execute_result"
    },
    {
     "data": {
      "image/png": "[encoded data removed]",
      "text/plain": [
       "<Figure size 1200x400 with 1 Axes>"
      ]
     },
     "metadata": {},
     "output_type": "display_data"
    }
   ],
   "source": [
    "plt.figure(figsize=(12,4))\n",
    "plt.plot(sequence)\n",
    "plt.scatter(range(len(sequence)), sequence)\n",
    "plt.scatter(range(len(sequence)+1, len(sequence)+15), preds[1:])"
   ]
  },
  {
   "cell_type": "code",
   "execution_count": 33,
   "id": "6fa6eeda",
   "metadata": {},
   "outputs": [
    {
     "name": "stdout",
     "output_type": "stream",
     "text": [
      "Epoch 1/25\n",
      "59/59 [==============================] - 2s 10ms/step - loss: 0.1966 - mse: 0.1966\n",
      "Epoch 2/25\n",
      "59/59 [==============================] - 1s 12ms/step - loss: 0.0099 - mse: 0.0099\n",
      "Epoch 3/25\n",
      "59/59 [==============================] - 1s 10ms/step - loss: 0.0081 - mse: 0.0081\n",
      "Epoch 4/25\n",
      "59/59 [==============================] - 1s 10ms/step - loss: 0.0077 - mse: 0.0077\n",
      "Epoch 5/25\n",
      "59/59 [==============================] - 1s 10ms/step - loss: 0.0077 - mse: 0.0077\n",
      "Epoch 6/25\n",
      "59/59 [==============================] - 1s 10ms/step - loss: 0.0071 - mse: 0.0071\n",
      "Epoch 7/25\n",
      "59/59 [==============================] - 1s 10ms/step - loss: 0.0077 - mse: 0.0077\n",
      "Epoch 8/25\n",
      "59/59 [==============================] - 1s 10ms/step - loss: 0.0076 - mse: 0.0076\n",
      "Epoch 9/25\n",
      "59/59 [==============================] - 1s 10ms/step - loss: 0.0075 - mse: 0.0075\n",
      "Epoch 10/25\n",
      "59/59 [==============================] - 1s 10ms/step - loss: 0.0077 - mse: 0.0077\n",
      "Epoch 11/25\n",
      "59/59 [==============================] - 1s 10ms/step - loss: 0.0070 - mse: 0.0070\n",
      "Epoch 12/25\n",
      "59/59 [==============================] - 1s 10ms/step - loss: 0.0073 - mse: 0.0073\n",
      "Epoch 13/25\n",
      "59/59 [==============================] - 1s 10ms/step - loss: 0.0068 - mse: 0.0068\n",
      "Epoch 14/25\n",
      "59/59 [==============================] - 1s 11ms/step - loss: 0.0076 - mse: 0.0076\n",
      "Epoch 15/25\n",
      "59/59 [==============================] - 1s 11ms/step - loss: 0.0075 - mse: 0.0075\n",
      "Epoch 16/25\n",
      "59/59 [==============================] - 1s 10ms/step - loss: 0.0079 - mse: 0.0079\n",
      "Epoch 17/25\n",
      "59/59 [==============================] - 1s 10ms/step - loss: 0.0070 - mse: 0.0070\n",
      "Epoch 18/25\n",
      "59/59 [==============================] - 1s 10ms/step - loss: 0.0071 - mse: 0.0071\n",
      "Epoch 19/25\n",
      "59/59 [==============================] - 1s 10ms/step - loss: 0.0073 - mse: 0.0073\n",
      "Epoch 20/25\n",
      "59/59 [==============================] - 1s 10ms/step - loss: 0.0072 - mse: 0.0072\n",
      "Epoch 21/25\n",
      "59/59 [==============================] - 1s 10ms/step - loss: 0.0077 - mse: 0.0077\n",
      "Epoch 22/25\n",
      "59/59 [==============================] - 1s 10ms/step - loss: 0.0068 - mse: 0.0068\n",
      "Epoch 23/25\n",
      "59/59 [==============================] - 1s 10ms/step - loss: 0.0083 - mse: 0.0083\n",
      "Epoch 24/25\n",
      "59/59 [==============================] - 1s 10ms/step - loss: 0.0074 - mse: 0.0074\n",
      "Epoch 25/25\n",
      "59/59 [==============================] - 1s 11ms/step - loss: 0.0073 - mse: 0.0073\n"
     ]
    },
    {
     "data": {
      "text/plain": [
       "<keras.callbacks.History at 0x195c4a178e0>"
      ]
     },
     "execution_count": 33,
     "metadata": {},
     "output_type": "execute_result"
    }
   ],
   "source": [
    "##Now let's train an RNN\n",
    "\n",
    "#init model\n",
    "model = Sequential()  \n",
    "\n",
    "#RNN\n",
    "model.add(SimpleRNN(2, activation='tanh'))\n",
    "\n",
    "#Dense layer\n",
    "model.add(Dense(1))\n",
    "\n",
    "#compile model\n",
    "opt = Adam(learning_rate=0.1)\n",
    "model.compile(loss='mean_squared_error', optimizer=opt, metrics=['mse'])\n",
    "\n",
    "#train model\n",
    "model.fit(train_data, train_label, epochs=25, verbose=1)"
   ]
  },
  {
   "cell_type": "code",
   "execution_count": 34,
   "id": "9cc5bd48",
   "metadata": {},
   "outputs": [
    {
     "name": "stdout",
     "output_type": "stream",
     "text": [
      "1/1 [==============================] - 0s 203ms/step\n",
      "1/1 [==============================] - 0s 26ms/step\n",
      "1/1 [==============================] - 0s 34ms/step\n",
      "1/1 [==============================] - 0s 34ms/step\n",
      "1/1 [==============================] - 0s 36ms/step\n",
      "1/1 [==============================] - 0s 37ms/step\n",
      "1/1 [==============================] - 0s 34ms/step\n",
      "1/1 [==============================] - 0s 34ms/step\n",
      "1/1 [==============================] - 0s 35ms/step\n",
      "1/1 [==============================] - 0s 35ms/step\n",
      "1/1 [==============================] - 0s 34ms/step\n",
      "1/1 [==============================] - 0s 34ms/step\n",
      "1/1 [==============================] - 0s 34ms/step\n",
      "1/1 [==============================] - 0s 34ms/step\n",
      "1/1 [==============================] - 0s 20ms/step\n"
     ]
    }
   ],
   "source": [
    "#make predictions using the RNN model\n",
    "preds = []\n",
    "input_vec = train_data[-1:].copy()\n",
    "for _ in range(15):\n",
    "    pred = model.predict(input_vec).flatten()\n",
    "    preds.append(pred[0])\n",
    "    input_vec[0][-1] = pred[0]"
   ]
  },
  {
   "cell_type": "code",
   "execution_count": 35,
   "id": "4d48b72c",
   "metadata": {},
   "outputs": [
    {
     "data": {
      "text/plain": [
       "<matplotlib.collections.PathCollection at 0x195cfd56200>"
      ]
     },
     "execution_count": 35,
     "metadata": {},
     "output_type": "execute_result"
    },
    {
     "data": {
      "image/png": "[encoded data removed]",
      "text/plain": [
       "<Figure size 1200x400 with 1 Axes>"
      ]
     },
     "metadata": {},
     "output_type": "display_data"
    }
   ],
   "source": [
    "plt.figure(figsize=(12,4))\n",
    "plt.plot(sequence)\n",
    "plt.scatter(range(len(sequence)), sequence)\n",
    "plt.scatter(range(len(sequence)+1, len(sequence)+15), preds[1:])"
   ]
  },
  {
   "cell_type": "code",
   "execution_count": 36,
   "id": "563e7de3",
   "metadata": {},
   "outputs": [],
   "source": [
    "##Let's code up option sense - An NLP based Sentiment Analysis tool using RNN"
   ]
  },
  {
   "cell_type": "code",
   "execution_count": 44,
   "id": "a0007164",
   "metadata": {},
   "outputs": [
    {
     "data": {
      "text/plain": [
       "['imdb.vocab', 'imdbEr.txt', 'README', 'test', 'train']"
      ]
     },
     "execution_count": 44,
     "metadata": {},
     "output_type": "execute_result"
    }
   ],
   "source": [
    "#Load up some data\n",
    "# url = \"https://ai.stanford.edu/~amaas/data/sentiment/aclImdb_v1.tar.gz\"\n",
    "\n",
    "# dataset = tf.keras.utils.get_file(\"aclImdb\", url,\n",
    "#                                   untar=False, cache_dir='.',\n",
    "#                                   cache_subdir='')\n",
    "\n",
    "dataset_dir = \"aclImdb\"\n",
    "os.listdir(dataset_dir)"
   ]
  },
  {
   "cell_type": "code",
   "execution_count": 47,
   "id": "6421939f",
   "metadata": {},
   "outputs": [
    {
     "data": {
      "text/plain": [
       "['labeledBow.feat',\n",
       " 'neg',\n",
       " 'pos',\n",
       " 'unsup',\n",
       " 'unsupBow.feat',\n",
       " 'urls_neg.txt',\n",
       " 'urls_pos.txt',\n",
       " 'urls_unsup.txt']"
      ]
     },
     "execution_count": 47,
     "metadata": {},
     "output_type": "execute_result"
    }
   ],
   "source": [
    "train_dir = os.path.join(dataset_dir, 'train')\n",
    "os.listdir(train_dir)"
   ]
  },
  {
   "cell_type": "code",
   "execution_count": 48,
   "id": "31717038",
   "metadata": {},
   "outputs": [],
   "source": [
    "remove_dir = os.path.join(train_dir, 'unsup')\n",
    "shutil.rmtree(remove_dir)"
   ]
  },
  {
   "cell_type": "code",
   "execution_count": 49,
   "id": "159800b2",
   "metadata": {},
   "outputs": [
    {
     "name": "stdout",
     "output_type": "stream",
     "text": [
      "Found 25000 files belonging to 2 classes.\n",
      "Using 20000 files for training.\n",
      "Found 25000 files belonging to 2 classes.\n",
      "Using 5000 files for validation.\n"
     ]
    }
   ],
   "source": [
    "batch_size = 512\n",
    "seed = 123\n",
    "train_ds = tf.keras.utils.text_dataset_from_directory(\n",
    "    'aclImdb/train', batch_size=batch_size, validation_split=0.2,\n",
    "    subset='training', seed=seed)\n",
    "val_ds = tf.keras.utils.text_dataset_from_directory(\n",
    "    'aclImdb/train', batch_size=batch_size, validation_split=0.2,\n",
    "    subset='validation', seed=seed)"
   ]
  },
  {
   "cell_type": "code",
   "execution_count": 51,
   "id": "ac79735e",
   "metadata": {},
   "outputs": [
    {
     "name": "stdout",
     "output_type": "stream",
     "text": [
      "0 b\"Wow. Some movies just leave me speechless. This was undeniably one of those movies. When I left the theatre, not a single word came to my mouth. All I had was an incredible urge to slam my head against the theatre wall to help me forget about the last hour and a half. Unfortunately, it didn't work. Honestly, this movie has nothing to recommend. The humor was at the first grade level, at best, the acting was overly silly, and the plot was astronomically far-fetched. I hearby pledge never to see an other movie starring Chris Kattan or any other cast-member of SNL.\"\n",
      "\n",
      "1 b'This is one of the great movies of the 80s in MY collection that I think about all the time. <br /><br />The Running Man is one of Arnold`s best and most different films even to this day and when I first saw The Running Man I was so excited to see a movie like this. I just adore all of the fights and this is truly a special movie. It also has Jesse Ventura, the legendary Professor Toru Tanaka, Sven-Ole Thorsen, the beautiful Maria Conchita Alonso, Yaphet Kotto, Kurt Fuller, Richard Dawson, and Thomas Rosales Jr. who seems to always like death in his movies because he has been killed in such films as Universal Solder, The Lost World, Robo Cop 2, Predator 2, and among others. All Arnold fans should love this film from the beginning to the end because its action packed, star filled, and its one its one of Arnold`s best to date!'\n",
      "\n",
      "1 b'Clearly an hilarious movie.<br /><br />It angers me to see the poor ratings given to this piece of comic genius<br /><br />Please look at this for what it is, a funny, ridiculous enjoyable film. Laugh for christ sake!<br /><br />'\n",
      "\n",
      "1 b\"A superb and compelling drama about the hunt for the notorious Russian serial killer Andrea Chikatilo. Magnificent performance from Stephen Rea as the forensic scientist put in charge of the investigation, who finds the biggest obstacle to his progress is the Russian government, in particular the old communist party members who want to maintain a closed society.<br /><br />The film is has an underlying theme about the decline of the communist society, and progress in the hunt for the killer is reflected by progress in social and political change in Russia, which is subtly put across. There is a conflict of old ways and new ways, and these are represented by the two viewpoints of Rea's superior (played by Donald Sutherland), and Rea himself . These are at first polarised, with Sutherland 'high' in system looking down, and Rea 'low' on the ground, looking up. However, they have a common cause \\xc2\\x96 to catch the serial killer.<br /><br />Throughout the film the relationship between these two develops, and the tension gradually eases until at the end of the movie Rea and Sutherland and Rea and Sutherland have mutual respect for each other, the killer is caught, and Glasnost symbolically comes. Excellent script.<br /><br />Further credits go to Sutherland's performance, which is superb and sympathetic, Jeffrey DeMunn as the killer whom we despise but can't hate, and Max Von Sydow, who is thoroughly convincing as the humble psychologist who risks his reputation to help.\"\n",
      "\n",
      "1 b'Despite some negative comments this film has garnered in the IMDb pages, it\\'s still worth a look as this is a story about survival and camaraderie between two different men with different mentalities while in a difficult mission in the Panamanian jungle.<br /><br />Peruvian director Luis Llosa takes us along to watch this thriller set in Panama. The film has some good moments as Beckett, the veteran marine, takes a newly arrived man, recently sent to try to eliminate a notorious drug cartel head and the corrupt army general who might be the next president of the country. The only problem, Miller, has no experience in what he has been entrusted to achieve.<br /><br />Miller, the arrogant newly arrived man to the jungle and to the guerrilla warfare between the military and drug lords against the infiltrated American intelligence men, learns a valuable lesson from Beckett. What looks good in theory, is irrelevant in the jungle.<br /><br />Tom Berenger, is an actor who doesn\\'t register much, as he proves in this movie, but in the context of the movie, he is right as a man of a few words. Billy Zane playing Miller does what he can with a role that doesn\\'t afford him any glory until the crucial end.<br /><br />For lovers of action film, \"Sniper\" offers an 112 minutes of action that with a bit of trimming would have made a more satisfying movie.'\n",
      "\n"
     ]
    }
   ],
   "source": [
    "for text_batch, label_batch in train_ds.take(1):\n",
    "    for i in range(5):\n",
    "        print(label_batch[i].numpy(), text_batch.numpy()[i])\n",
    "        print()"
   ]
  },
  {
   "cell_type": "code",
   "execution_count": 52,
   "id": "d1165cf7",
   "metadata": {},
   "outputs": [],
   "source": [
    "AUTOTUNE = tf.data.AUTOTUNE\n",
    "\n",
    "train_ds = train_ds.cache().prefetch(buffer_size=AUTOTUNE)\n",
    "val_ds = val_ds.cache().prefetch(buffer_size=AUTOTUNE)"
   ]
  },
  {
   "cell_type": "code",
   "execution_count": 53,
   "id": "4182fddb",
   "metadata": {},
   "outputs": [],
   "source": [
    "# Create a custom standardization function to strip HTML break tags ''.\n",
    "def custom_standardization(input_data):\n",
    "    lowercase = tf.strings.lower(input_data)\n",
    "    stripped_html = tf.strings.regex_replace(lowercase, '<br />', ' ')  # Target specific HTML break tag\n",
    "    return tf.strings.regex_replace(stripped_html, '[%s]' % re.escape(string.punctuation), '')\n",
    "\n",
    "\n",
    "# Vocabulary size and number of words in a sequence.\n",
    "vocab_size = 10000\n",
    "sequence_length = 100\n",
    "\n",
    "# Use the text vectorization layer to normalize, split, and map strings to\n",
    "# integers. Note that the layer uses the custom standardization defined above.\n",
    "# Set maximum_sequence length as all samples are not of the same length.\n",
    "vectorize_layer = TextVectorization(\n",
    "    standardize=custom_standardization,\n",
    "    max_tokens=vocab_size,\n",
    "    output_mode='int',\n",
    "    output_sequence_length=sequence_length)\n",
    "\n",
    "# Make a text-only dataset (no labels) and call adapt to build the vocabulary.\n",
    "text_ds = train_ds.map(lambda x, y: x)\n",
    "vectorize_layer.adapt(text_ds)"
   ]
  },
  {
   "cell_type": "code",
   "execution_count": 54,
   "id": "ee4cd427",
   "metadata": {},
   "outputs": [],
   "source": [
    "embedding_dim=20\n",
    "\n",
    "model = Sequential([\n",
    "    vectorize_layer,\n",
    "    Embedding(vocab_size, embedding_dim, name=\"embedding\"),\n",
    "    SimpleRNN(8),\n",
    "    Dense(1, activation='sigmoid')\n",
    "])"
   ]
  },
  {
   "cell_type": "code",
   "execution_count": 55,
   "id": "206676fa",
   "metadata": {},
   "outputs": [],
   "source": [
    "model.compile(optimizer='adam',\n",
    "              loss=tf.keras.losses.BinaryCrossentropy(from_logits=True),\n",
    "              metrics=['accuracy'])"
   ]
  },
  {
   "cell_type": "code",
   "execution_count": 56,
   "id": "868ac6c5",
   "metadata": {},
   "outputs": [
    {
     "name": "stdout",
     "output_type": "stream",
     "text": [
      "Epoch 1/20\n"
     ]
    },
    {
     "name": "stderr",
     "output_type": "stream",
     "text": [
      "C:\\Users\\madhu\\anaconda3\\envs\\cuda_test\\lib\\site-packages\\keras\\backend.py:5673: UserWarning: \"`binary_crossentropy` received `from_logits=True`, but the `output` argument was produced by a Sigmoid activation and thus does not represent logits. Was this intended?\n",
      "  output, from_logits = _get_logits(\n"
     ]
    },
    {
     "name": "stdout",
     "output_type": "stream",
     "text": [
      "40/40 [==============================] - 18s 411ms/step - loss: 0.6937 - accuracy: 0.5055 - val_loss: 0.6925 - val_accuracy: 0.5166\n",
      "Epoch 2/20\n",
      "40/40 [==============================] - 12s 310ms/step - loss: 0.6742 - accuracy: 0.6370 - val_loss: 0.6920 - val_accuracy: 0.5268\n",
      "Epoch 3/20\n",
      "40/40 [==============================] - 12s 305ms/step - loss: 0.6308 - accuracy: 0.7395 - val_loss: 0.6903 - val_accuracy: 0.5388\n",
      "Epoch 4/20\n",
      "40/40 [==============================] - 12s 299ms/step - loss: 0.5731 - accuracy: 0.8063 - val_loss: 0.6942 - val_accuracy: 0.5446\n",
      "Epoch 5/20\n",
      "40/40 [==============================] - 12s 307ms/step - loss: 0.5406 - accuracy: 0.8060 - val_loss: 0.6839 - val_accuracy: 0.5770\n",
      "Epoch 6/20\n",
      "40/40 [==============================] - 13s 321ms/step - loss: 0.5074 - accuracy: 0.8193 - val_loss: 0.7004 - val_accuracy: 0.5538\n",
      "Epoch 7/20\n",
      "40/40 [==============================] - 13s 317ms/step - loss: 0.4534 - accuracy: 0.8595 - val_loss: 0.7179 - val_accuracy: 0.5452\n",
      "Epoch 8/20\n",
      "40/40 [==============================] - 14s 353ms/step - loss: 0.4079 - accuracy: 0.8829 - val_loss: 0.7259 - val_accuracy: 0.5450\n",
      "Epoch 9/20\n",
      "40/40 [==============================] - 15s 373ms/step - loss: 0.3712 - accuracy: 0.8971 - val_loss: 0.7399 - val_accuracy: 0.5440\n",
      "Epoch 10/20\n",
      "40/40 [==============================] - 13s 320ms/step - loss: 0.3435 - accuracy: 0.9043 - val_loss: 0.7695 - val_accuracy: 0.5422\n",
      "Epoch 11/20\n",
      "40/40 [==============================] - 12s 309ms/step - loss: 0.3283 - accuracy: 0.9090 - val_loss: 0.8084 - val_accuracy: 0.5366\n",
      "Epoch 12/20\n",
      "40/40 [==============================] - 12s 311ms/step - loss: 0.3624 - accuracy: 0.8756 - val_loss: 0.8563 - val_accuracy: 0.4982\n",
      "Epoch 13/20\n",
      "40/40 [==============================] - 12s 313ms/step - loss: 0.3888 - accuracy: 0.8597 - val_loss: 0.8001 - val_accuracy: 0.5502\n",
      "Epoch 14/20\n",
      "40/40 [==============================] - 12s 310ms/step - loss: 0.2872 - accuracy: 0.9270 - val_loss: 0.8125 - val_accuracy: 0.5498\n",
      "Epoch 15/20\n",
      "40/40 [==============================] - 12s 305ms/step - loss: 0.2293 - accuracy: 0.9575 - val_loss: 0.8274 - val_accuracy: 0.5538\n",
      "Epoch 16/20\n",
      "40/40 [==============================] - 12s 312ms/step - loss: 0.1929 - accuracy: 0.9687 - val_loss: 0.8442 - val_accuracy: 0.5548\n",
      "Epoch 17/20\n",
      "40/40 [==============================] - 13s 318ms/step - loss: 0.1647 - accuracy: 0.9780 - val_loss: 0.8747 - val_accuracy: 0.5528\n",
      "Epoch 18/20\n",
      "40/40 [==============================] - 13s 315ms/step - loss: 0.1426 - accuracy: 0.9823 - val_loss: 0.8961 - val_accuracy: 0.5540\n",
      "Epoch 19/20\n",
      "40/40 [==============================] - 12s 306ms/step - loss: 0.1256 - accuracy: 0.9847 - val_loss: 0.9158 - val_accuracy: 0.5596\n",
      "Epoch 20/20\n",
      "40/40 [==============================] - 13s 317ms/step - loss: 0.1169 - accuracy: 0.9857 - val_loss: 0.9432 - val_accuracy: 0.5560\n"
     ]
    },
    {
     "data": {
      "text/plain": [
       "<keras.callbacks.History at 0x195c484e410>"
      ]
     },
     "execution_count": 56,
     "metadata": {},
     "output_type": "execute_result"
    }
   ],
   "source": [
    "model.fit(\n",
    "    train_ds,\n",
    "    validation_data=val_ds,\n",
    "    epochs=20\n",
    ")"
   ]
  },
  {
   "cell_type": "code",
   "execution_count": null,
   "id": "ff7b2054",
   "metadata": {},
   "outputs": [
    {
     "name": "stdout",
     "output_type": "stream",
     "text": [
      "I love this movie\n",
      "0.35205507\n",
      "\n",
      "Despite some negative comments this film has garnered in the IMDb pages, it\\'s still worth a look as this is a story about survival and camaraderie between two different men with different mentalities while in a difficult mission in the Panamanian jungle.<br /><br />Peruvian director Luis Llosa takes us along to watch this thriller set in Panama. The film has some good moments as Beckett, the veteran marine, takes a newly arrived man, recently sent to try to eliminate a notorious drug cartel head and the corrupt army general who might be the next president of the country. The only problem, Miller, has no experience in what he has been entrusted to achieve.<br /><br />Miller, the arrogant newly arrived man to the jungle and to the guerrilla warfare between the military and drug lords against the infiltrated American intelligence men, learns a valuable lesson from Beckett. What looks good in theory, is irrelevant in the jungle.<br /><br />Tom Berenger, is an actor who doesn\\'t register much, as he proves in this movie, but in the context of the movie, he is right as a man of a few words. Billy Zane playing Miller does what he can with a role that doesn\\'t afford him any glory until the crucial end.<br /><br />For lovers of action film, \"Sniper\" offers an 112 minutes of action that with a bit of trimming would have made a more satisfying movie.\n",
      "0.97926646\n",
      "\n"
     ]
    }
   ],
   "source": [
    "while True:\n",
    "    curr_input = input()\n",
    "    if curr_input == 'quit':\n",
    "        break\n",
    "    pred = model.predict([[curr_input]], verbose=False)[0][0]\n",
    "    print(pred)\n",
    "    print()"
   ]
  },
  {
   "cell_type": "code",
   "execution_count": null,
   "id": "cb16e893",
   "metadata": {},
   "outputs": [],
   "source": [
    "model.save('sentiment_analysis.h5')\n",
    "print(\"Model saved successfully!\")"
   ]
  },
  {
   "cell_type": "code",
   "execution_count": null,
   "id": "9c05ce5c",
   "metadata": {},
   "outputs": [],
   "source": []
  }
 ],
 "metadata": {
  "kernelspec": {
   "display_name": "THIS !!!",
   "language": "python",
   "name": "cuda_test"
  },
  "language_info": {
   "codemirror_mode": {
    "name": "ipython",
    "version": 3
   },
   "file_extension": ".py",
   "mimetype": "text/x-python",
   "name": "python",
   "nbconvert_exporter": "python",
   "pygments_lexer": "ipython3",
   "version": "3.10.9"
  }
 },
 "nbformat": 4,
 "nbformat_minor": 5
}
